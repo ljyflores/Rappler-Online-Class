{
 "cells": [
  {
   "cell_type": "code",
   "execution_count": 1,
   "metadata": {},
   "outputs": [],
   "source": [
    "import os\n",
    "import tweepy as tw\n",
    "import pandas as pd\n",
    "import numpy as np\n",
    "from collections import Counter\n",
    "import gensim\n",
    "%run \"/Users/lorenzoflores/Desktop/Yale_Academic/Stat Projects/LDA Utils.ipynb\" "
   ]
  },
  {
   "cell_type": "markdown",
   "metadata": {},
   "source": [
    "#### Pulling Twitter Data"
   ]
  },
  {
   "cell_type": "code",
   "execution_count": 2,
   "metadata": {},
   "outputs": [],
   "source": [
    "consumer_key= \n",
    "consumer_secret= \n",
    "access_token= \n",
    "access_token_secret= "
   ]
  },
  {
   "cell_type": "code",
   "execution_count": 3,
   "metadata": {},
   "outputs": [],
   "source": [
    "auth = tw.OAuthHandler(consumer_key, consumer_secret)\n",
    "auth.set_access_token(access_token, access_token_secret)\n",
    "api = tw.API(auth, wait_on_rate_limit=True)"
   ]
  },
  {
   "cell_type": "code",
   "execution_count": 4,
   "metadata": {},
   "outputs": [],
   "source": [
    "def get_tweets(listOfTweets, keyword, numOfTweets, language, date_since):\n",
    "    # Iterate through all tweets containing the given word, api search mode\n",
    "    for tweet in tw.Cursor(api.search, q=keyword, lang=language, geocode=\"14.5995,120.9842,50km\",\n",
    "              since=date_since).items(numOfTweets):\n",
    "        # Add tweets in this format\n",
    "        dict_ = {'Screen Name': tweet.user.screen_name,\n",
    "                'User Name': tweet.user.name,\n",
    "                'Tweet Created At': str(tweet.created_at),\n",
    "                'Tweet Text': tweet.text,\n",
    "                'User Location': str(tweet.user.location),\n",
    "                'Tweet Coordinates': str(tweet.coordinates),\n",
    "                'Retweet Count': str(tweet.retweet_count),\n",
    "                'Retweeted': str(tweet.retweeted),\n",
    "                'Phone Type': str(tweet.source),\n",
    "                'Favorite Count': str(tweet.favorite_count),\n",
    "                'Favorited': str(tweet.favorited),\n",
    "                'Replied': str(tweet.in_reply_to_status_id_str)\n",
    "                }\n",
    "        listOfTweets.append(dict_)   \n",
    "    return listOfTweets"
   ]
  },
  {
   "cell_type": "code",
   "execution_count": 11,
   "metadata": {},
   "outputs": [],
   "source": [
    "search_words = \"online class\"\n",
    "num_tweets = 20000\n",
    "date_since = \"2020-04-01\"\n",
    "language = \"\""
   ]
  },
  {
   "cell_type": "code",
   "execution_count": 6,
   "metadata": {},
   "outputs": [],
   "source": [
    "school = []\n"
   ]
  },
  {
   "cell_type": "code",
   "execution_count": 12,
   "metadata": {},
   "outputs": [
    {
     "name": "stdout",
     "output_type": "stream",
     "text": [
      "Now on pull number: 0\n",
      "Now on pull number: 1\n",
      "Now on pull number: 2\n",
      "Now on pull number: 3\n",
      "Now on pull number: 4\n",
      "Now on pull number: 5\n",
      "Now on pull number: 6\n",
      "Now on pull number: 7\n",
      "Now on pull number: 8\n",
      "Now on pull number: 9\n"
     ]
    }
   ],
   "source": [
    "for i in range(10):\n",
    "    print(\"Now on pull number: \"+str(i))\n",
    "    try:\n",
    "        temp = []\n",
    "        temp = get_tweets(temp, search_words, num_tweets, language, date_since)\n",
    "        school.extend(temp)\n",
    "    except:\n",
    "        pass"
   ]
  },
  {
   "cell_type": "code",
   "execution_count": 13,
   "metadata": {},
   "outputs": [],
   "source": [
    "pd.DataFrame(school).drop_duplicates().reset_index().to_csv('online_class2.csv', index=False)"
   ]
  },
  {
   "cell_type": "code",
   "execution_count": null,
   "metadata": {},
   "outputs": [],
   "source": []
  }
 ],
 "metadata": {
  "kernelspec": {
   "display_name": "Python 3",
   "language": "python",
   "name": "python3"
  },
  "language_info": {
   "codemirror_mode": {
    "name": "ipython",
    "version": 3
   },
   "file_extension": ".py",
   "mimetype": "text/x-python",
   "name": "python",
   "nbconvert_exporter": "python",
   "pygments_lexer": "ipython3",
   "version": "3.7.4"
  }
 },
 "nbformat": 4,
 "nbformat_minor": 2
}
